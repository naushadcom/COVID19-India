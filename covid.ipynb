{
 "cells": [
  {
   "cell_type": "code",
   "execution_count": 1,
   "metadata": {},
   "outputs": [
    {
     "name": "stdout",
     "output_type": "stream",
     "text": [
      "Data for the second week of August for state AN:\n",
      "Date: 2021-08-08, Data: {'delta': {'confirmed': 2, 'recovered': 1, 'tested': 1207, 'vaccinated1': 55, 'vaccinated2': 21}, 'delta7': {'confirmed': 7, 'recovered': 7, 'tested': 9352, 'vaccinated1': 5333, 'vaccinated2': 2639}, 'total': {'confirmed': 7546, 'deceased': 129, 'recovered': 7410, 'tested': 451415, 'vaccinated1': 215077, 'vaccinated2': 94272}}\n",
      "Date: 2021-08-09, Data: {'delta': {'recovered': 2, 'tested': 1172, 'vaccinated1': 976, 'vaccinated2': 329}, 'delta7': {'confirmed': 7, 'recovered': 8, 'tested': 9395, 'vaccinated1': 5475, 'vaccinated2': 2444}, 'total': {'confirmed': 7546, 'deceased': 129, 'recovered': 7412, 'tested': 452587, 'vaccinated1': 216053, 'vaccinated2': 94601}}\n",
      "Date: 2021-08-10, Data: {'delta': {'confirmed': 2, 'tested': 1347, 'vaccinated1': 934, 'vaccinated2': 448}, 'delta7': {'confirmed': 8, 'recovered': 7, 'tested': 9096, 'vaccinated1': 5418, 'vaccinated2': 2458}, 'total': {'confirmed': 7548, 'deceased': 129, 'recovered': 7412, 'tested': 453934, 'vaccinated1': 216987, 'vaccinated2': 95049}}\n",
      "Date: 2021-08-11, Data: {'delta': {'recovered': 1, 'tested': 1167, 'vaccinated1': 2329, 'vaccinated2': 445}, 'delta7': {'confirmed': 7, 'recovered': 5, 'tested': 9114, 'vaccinated1': 6743, 'vaccinated2': 2330}, 'total': {'confirmed': 7548, 'deceased': 129, 'recovered': 7413, 'tested': 455101, 'vaccinated1': 219316, 'vaccinated2': 95494}}\n",
      "Date: 2021-08-12, Data: {'delta': {'tested': 1146, 'vaccinated1': 4447, 'vaccinated2': 493}, 'delta7': {'confirmed': 7, 'recovered': 5, 'tested': 8908, 'vaccinated1': 10306, 'vaccinated2': 2428}, 'total': {'confirmed': 7548, 'deceased': 129, 'recovered': 7413, 'tested': 456247, 'vaccinated1': 223763, 'vaccinated2': 95987}}\n",
      "Date: 2021-08-13, Data: {'delta': {'recovered': 2, 'tested': 1283, 'vaccinated1': 4553, 'vaccinated2': 520}, 'delta7': {'confirmed': 7, 'recovered': 7, 'tested': 8648, 'vaccinated1': 13982, 'vaccinated2': 2662}, 'total': {'confirmed': 7548, 'deceased': 129, 'recovered': 7415, 'tested': 457530, 'vaccinated1': 228316, 'vaccinated2': 96507}}\n",
      "Date: 2021-08-14, Data: {'delta': {'recovered': 2, 'tested': 1351, 'vaccinated1': 4393, 'vaccinated2': 780}, 'delta7': {'confirmed': 4, 'recovered': 8, 'tested': 8673, 'vaccinated1': 17687, 'vaccinated2': 3036}, 'total': {'confirmed': 7548, 'deceased': 129, 'recovered': 7417, 'tested': 458881, 'vaccinated1': 232709, 'vaccinated2': 97287}}\n"
     ]
    }
   ],
   "source": [
    "import requests\n",
    "import json\n",
    "\n",
    "# URLs to fetch the data\n",
    "url_data = \"https://data.covid19india.org/v4/min/data.min.json\"\n",
    "url_timeseries = \"https://data.covid19india.org/v4/min/timeseries.min.json\"\n",
    "\n",
    "# Function to fetch JSON data from a URL\n",
    "def fetch_json(url):\n",
    "    response = requests.get(url)\n",
    "    response.raise_for_status()  # Raise an error for bad status codes\n",
    "    return response.json()\n",
    "\n",
    "# Fetching the data from the URLs\n",
    "data = fetch_json(url_data)\n",
    "timeseries = fetch_json(url_timeseries)\n",
    "\n",
    "# Define the range for the second week of August\n",
    "second_week_august = [\"2021-08-08\", \"2021-08-09\", \"2021-08-10\", \"2021-08-11\", \"2021-08-12\", \"2021-08-13\", \"2021-08-14\"]\n",
    "\n",
    "# Function to get data for a specific state and date range\n",
    "def get_data_for_date_range(state_code, date_range, timeseries):\n",
    "    if state_code in timeseries:\n",
    "        dates_data = timeseries[state_code][\"dates\"]\n",
    "        week_data = {date: dates_data[date] for date in date_range if date in dates_data}\n",
    "        return week_data\n",
    "    else:\n",
    "        return None\n",
    "\n",
    "\n",
    "state_code = \"AN\"\n",
    "\n",
    "week_data = get_data_for_date_range(state_code, second_week_august, timeseries)\n",
    "\n",
    "if week_data:\n",
    "    print(f\"Data for the second week of August for state {state_code}:\")\n",
    "    for date, data in week_data.items():\n",
    "        print(f\"Date: {date}, Data: {data}\")\n",
    "else:\n",
    "    print(f\"No data found for state code {state_code} for the given date range.\")\n",
    "  \n"
   ]
  },
  {
   "cell_type": "code",
   "execution_count": 2,
   "metadata": {},
   "outputs": [
    {
     "name": "stdout",
     "output_type": "stream",
     "text": [
      "Defaulting to user installation because normal site-packages is not writeable\n",
      "Requirement already satisfied: requests in c:\\users\\shivansh c&m\\appdata\\roaming\\python\\python312\\site-packages (2.32.3)\n",
      "Requirement already satisfied: charset-normalizer<4,>=2 in c:\\users\\shivansh c&m\\appdata\\roaming\\python\\python312\\site-packages (from requests) (3.3.2)\n",
      "Requirement already satisfied: idna<4,>=2.5 in c:\\users\\shivansh c&m\\appdata\\roaming\\python\\python312\\site-packages (from requests) (3.7)\n",
      "Requirement already satisfied: urllib3<3,>=1.21.1 in c:\\users\\shivansh c&m\\appdata\\roaming\\python\\python312\\site-packages (from requests) (2.2.1)\n",
      "Requirement already satisfied: certifi>=2017.4.17 in c:\\users\\shivansh c&m\\appdata\\roaming\\python\\python312\\site-packages (from requests) (2024.6.2)\n",
      "Note: you may need to restart the kernel to use updated packages.\n"
     ]
    }
   ],
   "source": [
    "pip install requests"
   ]
  },
  {
   "cell_type": "code",
   "execution_count": 1,
   "metadata": {},
   "outputs": [],
   "source": [
    "import requests\n",
    "import json\n",
    "\n",
    "# URLs to fetch the data\n",
    "url_data = \"https://data.covid19india.org/v4/min/data.min.json\"\n",
    "url_timeseries = \"https://data.covid19india.org/v4/min/timeseries.min.json\"\n",
    "\n",
    "# Function to fetch JSON data from a URL\n",
    "def fetch_json(url):\n",
    "    response = requests.get(url)\n",
    "    response.raise_for_status()  # Raise an error for bad status codes\n",
    "    return response.json()\n",
    "\n",
    "# Fetching the data from the URLs\n",
    "data = fetch_json(url_data)\n",
    "timeseries = fetch_json(url_timeseries)\n",
    "timeseries"
   ]
  }
 ],
 "metadata": {
  "kernelspec": {
   "display_name": "Python 3",
   "language": "python",
   "name": "python3"
  },
  "language_info": {
   "codemirror_mode": {
    "name": "ipython",
    "version": 3
   },
   "file_extension": ".py",
   "mimetype": "text/x-python",
   "name": "python",
   "nbconvert_exporter": "python",
   "pygments_lexer": "ipython3",
   "version": "3.12.3"
  }
 },
 "nbformat": 4,
 "nbformat_minor": 2
}
